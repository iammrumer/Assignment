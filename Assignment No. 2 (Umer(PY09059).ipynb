{
 "cells": [
  {
   "cell_type": "markdown",
   "metadata": {},
   "source": [
    "### Name : Umer Father Name : Muhammad Iqbal Id : PY09059 Email : umermuhammadiqbal@gmail.com\n",
    "\n",
    "###\n",
    "\n",
    "Assignment No. 2"
   ]
  },
  {
   "cell_type": "markdown",
   "metadata": {},
   "source": [
    "# 1. Write a program which takes 5 inputs from user for different subject’s marks, total it and generate mark sheet using grades ?"
   ]
  },
  {
   "cell_type": "code",
   "execution_count": 32,
   "metadata": {},
   "outputs": [
    {
     "name": "stdout",
     "output_type": "stream",
     "text": [
      "enter your Subject 01 marks: 50\n",
      "enter your Subject 02 marks: 50\n",
      "enter your Subject 03 marks: 50\n",
      "enter your Subject 04 marks: 50\n",
      "enter your Subject 05 marks: 50\n",
      "Grade: D\n"
     ]
    }
   ],
   "source": [
    "Sub1=int(input(\"enter your Subject 01 marks: \"))\n",
    "Sub2=int(input(\"enter your Subject 02 marks: \"))\n",
    "Sub3=int(input(\"enter your Subject 03 marks: \"))\n",
    "Sub4=int(input(\"enter your Subject 04 marks: \"))\n",
    "Sub5=int(input(\"enter your Subject 05 marks: \"))\n",
    "total = (Sub1 + Sub2 + Sub3 + Sub4 + Sub5)/5\n",
    "\n",
    "if total >=80:\n",
    "    print(\"Grade: A\")\n",
    "elif total >=70:\n",
    "    print(\"Grade: B\")\n",
    "elif total >=60:\n",
    "    print(\"Grade: C\")\n",
    "elif total >=50:\n",
    "    print(\"Grade: D\")\n",
    "else:\n",
    "    print('Grade: Fail')"
   ]
  },
  {
   "cell_type": "markdown",
   "metadata": {},
   "source": [
    "# 2. Write a program which take input from user and identify that the given number is even or odd?"
   ]
  },
  {
   "cell_type": "code",
   "execution_count": 32,
   "metadata": {},
   "outputs": [
    {
     "name": "stdout",
     "output_type": "stream",
     "text": [
      "Enter the number2\n",
      "the 2 is Even\n"
     ]
    }
   ],
   "source": [
    "num = int(input(\"Enter the number\"))\n",
    "if num%2==0:\n",
    "    print(f\"the {num} is Even\")\n",
    "else:\n",
    "    print(f\"the {num} is odd\")"
   ]
  },
  {
   "cell_type": "markdown",
   "metadata": {},
   "source": [
    "# 3. Write a program which print the length of the list?"
   ]
  },
  {
   "cell_type": "code",
   "execution_count": 15,
   "metadata": {},
   "outputs": [
    {
     "name": "stdout",
     "output_type": "stream",
     "text": [
      "Press x to Exitumer\n",
      "Press x to Exitiqbal\n",
      "Press x to Exitdear\n",
      "Press x to Exitsir\n",
      "Press x to Exitx\n",
      "the lenght of the list is 4\n"
     ]
    }
   ],
   "source": [
    "lst = []\n",
    "\n",
    "for s in range(0,200):\n",
    "    con=input(\"Press x to Exit\")\n",
    "    if con!=\"x\":\n",
    "        lst.append(con)\n",
    "    else:\n",
    "        break\n",
    "print(f\"the lenght of the list is {len(lst)}\")"
   ]
  },
  {
   "cell_type": "markdown",
   "metadata": {},
   "source": [
    "# 4. Write a Python program to sum all the numeric items in a list?"
   ]
  },
  {
   "cell_type": "code",
   "execution_count": 1,
   "metadata": {},
   "outputs": [
    {
     "name": "stdout",
     "output_type": "stream",
     "text": [
      "How Many Numbers you want to enter in the list: 5\n",
      "put the numbers & Press x to Exit1\n",
      "put the numbers & Press x to Exit2\n",
      "put the numbers & Press x to Exit3\n",
      "put the numbers & Press x to Exit4\n",
      "put the numbers & Press x to Exit5\n",
      "the sum of the list is 15\n"
     ]
    }
   ],
   "source": [
    "lst = []\n",
    "num = int(input(\"How Many Numbers you want to enter in the list: \"))\n",
    "for s in range(0,num):\n",
    "    con=int(input(\"put the numbers & Press x to Exit\"))\n",
    "    lst.append(con)\n",
    "\n",
    "print(f\"the sum of the list is {sum(lst)}\")"
   ]
  },
  {
   "cell_type": "markdown",
   "metadata": {},
   "source": [
    "# 5. Write a Python program to get the largest number from a numeric list."
   ]
  },
  {
   "cell_type": "code",
   "execution_count": 5,
   "metadata": {},
   "outputs": [
    {
     "name": "stdout",
     "output_type": "stream",
     "text": [
      "How Many Numbers you want to enter in the list: 5\n",
      "put the numbers & Press x to Exit5\n",
      "put the numbers & Press x to Exit4\n",
      "put the numbers & Press x to Exit3\n",
      "put the numbers & Press x to Exit2\n",
      "put the numbers & Press x to Exit90\n",
      "the Largest Number of the list is 90\n"
     ]
    }
   ],
   "source": [
    "lst = []\n",
    "num = int(input(\"How Many Numbers you want to enter in the list: \"))\n",
    "for s in range(0,num):\n",
    "    con=int(input(\"put the numbers & Press x to Exit\"))\n",
    "    lst.append(con)\n",
    "\n",
    "print(f\"the Largest Number of the list is {max(lst)}\")"
   ]
  },
  {
   "cell_type": "markdown",
   "metadata": {},
   "source": [
    "# 6. Take a list, say for example this one:\n",
    "a = [1, 1, 2, 3, 5, 8, 13, 21, 34, 55, 89]\n",
    "and write a program that prints out all the elements of the list that are less than 5."
   ]
  },
  {
   "cell_type": "code",
   "execution_count": 7,
   "metadata": {},
   "outputs": [
    {
     "name": "stdout",
     "output_type": "stream",
     "text": [
      "1\n",
      "1\n",
      "2\n",
      "3\n"
     ]
    }
   ],
   "source": [
    "a = [1, 1, 2, 3, 5, 8, 13, 21, 34, 55, 89]\n",
    "for s in a:\n",
    "    if s<5:\n",
    "        print(s)"
   ]
  }
 ],
 "metadata": {
  "kernelspec": {
   "display_name": "Python 3",
   "language": "python",
   "name": "python3"
  },
  "language_info": {
   "codemirror_mode": {
    "name": "ipython",
    "version": 3
   },
   "file_extension": ".py",
   "mimetype": "text/x-python",
   "name": "python",
   "nbconvert_exporter": "python",
   "pygments_lexer": "ipython3",
   "version": "3.7.3"
  }
 },
 "nbformat": 4,
 "nbformat_minor": 2
}
