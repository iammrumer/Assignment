{
 "cells": [
  {
   "cell_type": "markdown",
   "metadata": {},
   "source": [
    "Name : Umer \n",
    "Father Name : Muhammad Iqbal \n",
    "PY09059 \n",
    "umermuhammadiqbal@gmail.com\n",
    "Assignment No. 3"
   ]
  },
  {
   "cell_type": "markdown",
   "metadata": {},
   "source": [
    "1. Make a calculator using Python with addition , subtraction , multiplication ,\n",
    "division and power."
   ]
  },
  {
   "cell_type": "code",
   "execution_count": 70,
   "metadata": {
    "scrolled": false
   },
   "outputs": [
    {
     "name": "stdout",
     "output_type": "stream",
     "text": [
      "Select Opereator\n",
      " 1 for Add\n",
      " 2 for Subtract\n",
      " 3 for Mulitply\n",
      " 4 for divide\n",
      " 5 for power\n",
      "select your operator 1/2/3/4/5\n",
      "5\n",
      "Enter the First Number2\n",
      "Enter the Second Number4\n",
      "2.0 power 4.0 = 16.0\n"
     ]
    }
   ],
   "source": [
    "def add(x,y):\n",
    "    return x + y\n",
    "def Subtract(x,y):\n",
    "    return x - y\n",
    "def Multiply(x,y):\n",
    "    return x * y\n",
    "def divide(x,y):\n",
    "    return x / y\n",
    "def power(x,y):\n",
    "    return x**y\n",
    "print(\"Select Opereator\\n 1 for Add\\n 2 for Subtract\\n 3 for Mulitply\\n 4 for divide\\n 5 for power\")\n",
    "output = int(input(\"select your operator 1/2/3/4/5\\n\"))\n",
    "num1 = float(input(\"Enter the First Number\"))\n",
    "num2 = float(input(\"Enter the Second Number\"))\n",
    "if output==1:\n",
    "    print(f\"{num1} + {num2} = {add(num1,num2)}\")\n",
    "elif output==2:\n",
    "    print(f\"{num1} - {num2} = {Subtract(num1,num2)}\")\n",
    "elif output==3:\n",
    "    print(f\"{num1} * {num2} = {Multiply(num1,num2)}\")\n",
    "elif output==4:\n",
    "    print(f\"{num1} / {num2} = {divide(num1,num2)}\")\n",
    "elif output==5:\n",
    "    print(f\"{num1} power {num2} = {power(num1,num2)}\")\n",
    "else:\n",
    "    print(\"invalid Operator\")"
   ]
  },
  {
   "cell_type": "raw",
   "metadata": {},
   "source": [
    "# 2. Write a program to check if there is any numeric value in list using for loop"
   ]
  },
  {
   "cell_type": "code",
   "execution_count": 34,
   "metadata": {},
   "outputs": [
    {
     "name": "stdout",
     "output_type": "stream",
     "text": [
      "you have these numeric number is list = [1.3, 1, 5]\n"
     ]
    }
   ],
   "source": [
    "lst=[1.3,1,\"p\",\"4\",5]\n",
    "lst1=[]\n",
    "for x in lst:\n",
    "    if type(x)==int or type(x)==float:\n",
    "        lst1.append(x)\n",
    "    else:\n",
    "        pass\n",
    "print(f\"you have these numeric number is list = {lst1}\")"
   ]
  },
  {
   "cell_type": "raw",
   "metadata": {},
   "source": [
    "# 3. Write a Python script to add a key to a dictionary"
   ]
  },
  {
   "cell_type": "code",
   "execution_count": 43,
   "metadata": {},
   "outputs": [
    {
     "name": "stdout",
     "output_type": "stream",
     "text": [
      "{'tea1': 1, 'tea2': 2, 2: 'hello', 'hello': 4, 'tea3': 3}\n"
     ]
    }
   ],
   "source": [
    "dct = {\"tea1\":1,\n",
    "       \"tea2\":2,\n",
    "      2:\"hello\",\n",
    "       \"hello\":4\n",
    "      }\n",
    "dct[\"tea3\"]=3\n",
    "print(dct)"
   ]
  },
  {
   "cell_type": "raw",
   "metadata": {},
   "source": [
    "# 4. Write a Python program to sum all the numeric items in a dictionary"
   ]
  },
  {
   "cell_type": "code",
   "execution_count": 44,
   "metadata": {},
   "outputs": [
    {
     "name": "stdout",
     "output_type": "stream",
     "text": [
      "you have these numeric number is dictionary = [1, 2, 4, 3] and sum of these are 10\n"
     ]
    }
   ],
   "source": [
    "x1=[]\n",
    "for x in dct.values():\n",
    "    if type(x)==int or type(x)==float:\n",
    "        x1.append(x)\n",
    "    else:\n",
    "        pass\n",
    "print(f\"you have these numeric number is dictionary = {x1} and sum of these are {sum(x1)}\")\n",
    "    "
   ]
  },
  {
   "cell_type": "raw",
   "metadata": {},
   "source": [
    "# 5. Write a program to identify duplicate values from list"
   ]
  },
  {
   "cell_type": "code",
   "execution_count": 56,
   "metadata": {},
   "outputs": [
    {
     "name": "stdout",
     "output_type": "stream",
     "text": [
      "[2, 3, 4, 5, 6, 9]\n"
     ]
    }
   ],
   "source": [
    "def duplicate(x):\n",
    "    size=len(x)\n",
    "    duplicate_value=[]\n",
    "    for i in range(size):\n",
    "        k=i+1\n",
    "        for l in range(k,size):\n",
    "            if x[i]==x[l] and x[i] not in duplicate_value:\n",
    "                duplicate_value.append(x[i])\n",
    "    return duplicate_value\n",
    "\n",
    "list1=[50,2,3,4,5,3,2,4,4,5,6,6,7,8,89,9,9,90,0,2]\n",
    "print(duplicate(list1))"
   ]
  },
  {
   "cell_type": "raw",
   "metadata": {},
   "source": [
    "# 6. Write a Python script to check if a given key already exists in a dictionary "
   ]
  },
  {
   "cell_type": "code",
   "execution_count": 69,
   "metadata": {},
   "outputs": [
    {
     "name": "stdout",
     "output_type": "stream",
     "text": [
      "the 2 key is already exists\n"
     ]
    }
   ],
   "source": [
    "dct = {\"tea1\":1,\n",
    "       \"tea2\":2,\n",
    "      2:\"hello\",\n",
    "       \"hello\":4\n",
    "      }\n",
    "checkkey=2\n",
    "for z in dct.keys():\n",
    "    if z == checkkey:\n",
    "        print(f\"the {z} key is already exists\")\n",
    "    else:\n",
    "        pass\n"
   ]
  }
 ],
 "metadata": {
  "kernelspec": {
   "display_name": "Python 3",
   "language": "python",
   "name": "python3"
  },
  "language_info": {
   "codemirror_mode": {
    "name": "ipython",
    "version": 3
   },
   "file_extension": ".py",
   "mimetype": "text/x-python",
   "name": "python",
   "nbconvert_exporter": "python",
   "pygments_lexer": "ipython3",
   "version": "3.7.3"
  }
 },
 "nbformat": 4,
 "nbformat_minor": 2
}
