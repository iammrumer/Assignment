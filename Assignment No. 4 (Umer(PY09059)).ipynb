{
 "cells": [
  {
   "cell_type": "markdown",
   "metadata": {},
   "source": [
    "***   Name : Umer   *** \n",
    "***   Father Name : Muhammad Iqbal   ***\n",
    "***   Id : PY09059 Email : umermuhammadiqbal@gmail.com  ***\n"
   ]
  },
  {
   "cell_type": "markdown",
   "metadata": {},
   "source": [
    "Question1:\n",
    "Use a dictionary to store information about a person you know. Store their first name, last name, age,\n",
    "and the city in which they live. You should have keys such as first_name, last_name, age, and city. Print\n",
    "each piece of information stored in your dictionary. Add a new key value pair about qualification then\n",
    "update the qualification value to high academic level then delete it."
   ]
  },
  {
   "cell_type": "code",
   "execution_count": 12,
   "metadata": {},
   "outputs": [
    {
     "name": "stdout",
     "output_type": "stream",
     "text": [
      "{'first_name': 'umer', 'last_name': 'Muhammad iqbal', 'age': 25, 'city': 'Karachi'}\n",
      "{'first_name': 'umer', 'last_name': 'Muhammad iqbal', 'age': 25, 'city': 'Karachi', 'qualificaiton': 'Update soon'}\n",
      "{'first_name': 'umer', 'last_name': 'Muhammad iqbal', 'age': 25, 'city': 'Karachi', 'qualificaiton': 'high academic Level'}\n",
      "{'first_name': 'umer', 'last_name': 'Muhammad iqbal', 'age': 25, 'city': 'Karachi'}\n"
     ]
    }
   ],
   "source": [
    "dict1=  {\n",
    "    'first_name': 'umer',\n",
    "    'last_name': 'Muhammad iqbal',\n",
    "    'age': 25,\n",
    "    'city': \"Karachi\"\n",
    "}\n",
    "print(dict1)\n",
    "dict1[\"qualificaiton\"]=\"Update soon\"\n",
    "\n",
    "print(dict1)\n",
    "dict1[\"qualificaiton\"]=\"high academic Level\"\n",
    "\n",
    "print(dict1)\n",
    "del dict1[\"qualificaiton\"]\n",
    "\n",
    "print(dict1)"
   ]
  },
  {
   "cell_type": "markdown",
   "metadata": {},
   "source": [
    "Question2:\n",
    "Make a dictionary called cities. Use the names of three cities as keys in your dictionary. Create a\n",
    "dictionary of information about each city and include the country that the city is in, its approximate\n",
    "population, and one fact about that city. The keys for each city’s dictionary should be something like\n",
    "country, population, and fact. Print the name of each city and all of the information you have stored\n",
    "about it."
   ]
  },
  {
   "cell_type": "code",
   "execution_count": 18,
   "metadata": {},
   "outputs": [
    {
     "name": "stdout",
     "output_type": "stream",
     "text": [
      "{'Country': 'Pakistan', 'Population': '14.91 Million', 'Fact': 'Business Hub of Pakistan'}\n",
      "{'Country': 'China', 'Population': '5.28 Million', 'Fact': '2nd Coldes city in the world'}\n",
      "{'Country': 'Denmark', 'Population': '0.60 Million', 'Fact': 'Greenest Cities Around The World'}\n"
     ]
    }
   ],
   "source": [
    "cities={\n",
    "    \"karachi\": {\n",
    "        \"Country\":\"Pakistan\",\n",
    "        \"Population\": \"14.91 Million\",\n",
    "        \"Fact\": \"Business Hub of Pakistan\"\n",
    "    },\n",
    "    \"Harbin\": {\n",
    "        \"Country\":\"China\",\n",
    "        \"Population\": \"5.28 Million\",\n",
    "        \"Fact\": \"2nd Coldes city in the world\"\n",
    "    },\n",
    "    \"Copenhagen\": {\n",
    "        \"Country\":\"Denmark\",\n",
    "        \"Population\": \"0.60 Million\",\n",
    "        \"Fact\": \"Greenest Cities Around The World\"\n",
    "    }\n",
    "}\n",
    "\n",
    "print(cities[\"karachi\"])\n",
    "print(cities[\"Harbin\"])\n",
    "print(cities[\"Copenhagen\"])"
   ]
  },
  {
   "cell_type": "markdown",
   "metadata": {},
   "source": [
    "Question3:\n",
    "A movie theater charges different ticket prices depending on a person’s age. If a person is under the age\n",
    "of 3, the ticket is free; if they are between 3 and 12, the ticket is $10; and if they are over age 12, the\n",
    "ticket is $15. Write a loop in which you ask users their age, and then tell them the cost of their movie\n",
    "ticket."
   ]
  },
  {
   "cell_type": "code",
   "execution_count": 5,
   "metadata": {},
   "outputs": [
    {
     "name": "stdout",
     "output_type": "stream",
     "text": [
      "Enter your age to know the Ticket price:  or press q to Exit3\n",
      "Cost of the movie is Free\n",
      "Enter your age to know the Ticket price:  or press q to Exit4\n",
      "cost of the movie is $10\n",
      "Enter your age to know the Ticket price:  or press q to Exit12\n",
      "cost of the movie is $10\n",
      "Enter your age to know the Ticket price:  or press q to Exit13\n",
      "cost of the movie is $15\n",
      "Enter your age to know the Ticket price:  or press q to Exitq\n"
     ]
    }
   ],
   "source": [
    "val = True\n",
    "while val:\n",
    "    age=input(\"Enter your age to know the Ticket price:  or press q to Exit \")\n",
    "    if age.lower() =='q':\n",
    "        val=False\n",
    "    else:\n",
    "        a=int(age)\n",
    "        if a<=3:\n",
    "            print(\"Cost of the movie is Free\")\n",
    "        elif a>3 and a<=12:\n",
    "            print(\"cost of the movie is $10\")\n",
    "        elif a>12:\n",
    "            print(\"cost of the movie is $15\")"
   ]
  },
  {
   "cell_type": "markdown",
   "metadata": {},
   "source": [
    "Question4:\n",
    "Write a function called favorite_book() that accepts one parameter, title. The function should print a\n",
    "message, such as One of my favorite books is Alice in Wonderland. Call the function, making sure to\n",
    "include a book title as an argument in the function call.\n"
   ]
  },
  {
   "cell_type": "code",
   "execution_count": 13,
   "metadata": {},
   "outputs": [
    {
     "name": "stdout",
     "output_type": "stream",
     "text": [
      "one of my favorites book is all in one.\n"
     ]
    }
   ],
   "source": [
    "def favoutite_book(title):\n",
    "    print(f\"one of my favorites book is {title}.\")\n",
    "\n",
    "favoutite_book(\"all in one\")"
   ]
  },
  {
   "cell_type": "markdown",
   "metadata": {},
   "source": [
    "Question5:\n",
    "Guess the number game\n",
    "Write a program which randomly generate a number between 1 to 30 and ask the user in input field to\n",
    "guess the correct number. Give three chances to user guess the number and also give hint to user if\n",
    "hidden number is greater or smaller than the number he given to input field"
   ]
  },
  {
   "cell_type": "code",
   "execution_count": 27,
   "metadata": {},
   "outputs": [
    {
     "name": "stdout",
     "output_type": "stream",
     "text": [
      "Guess the number between 1  to 30\n",
      " note that you have only 3 Chances30\n",
      "your guess number is smaller\n",
      "Guess the number between 1  to 30\n",
      " note that you have only 3 Chances1\n",
      "your guess number is greater\n",
      "Guess the number between 1  to 30\n",
      " note that you have only 3 Chances5\n",
      "your guess number is greater\n",
      "the correct number is 19\n"
     ]
    }
   ],
   "source": [
    "import random as rd\n",
    "correctnumber=rd.randint(1,30)\n",
    "for a in range(3):\n",
    "    a1=int(input(\"Guess the number between 1  to 30\\n note that you have only 3 Chances\"))\n",
    "    if correctnumber==a1:\n",
    "        print(\"\\t***Congrats you won your guess is right\")\n",
    "    elif correctnumber>a1:\n",
    "        print(f\"your guess number is greater\")\n",
    "    elif correctnumber<a1:\n",
    "        print(f\"your guess number is smaller\")\n",
    "print(f\"the correct number is {correctnumber}\")\n",
    "        "
   ]
  },
  {
   "cell_type": "code",
   "execution_count": null,
   "metadata": {},
   "outputs": [],
   "source": []
  }
 ],
 "metadata": {
  "kernelspec": {
   "display_name": "Python 3",
   "language": "python",
   "name": "python3"
  },
  "language_info": {
   "codemirror_mode": {
    "name": "ipython",
    "version": 3
   },
   "file_extension": ".py",
   "mimetype": "text/x-python",
   "name": "python",
   "nbconvert_exporter": "python",
   "pygments_lexer": "ipython3",
   "version": "3.7.3"
  }
 },
 "nbformat": 4,
 "nbformat_minor": 2
}
