{
 "cells": [
  {
   "cell_type": "markdown",
   "metadata": {},
   "source": [
    " ***Name : Umer***\n",
    "***Father Name : Muhammad Iqbal***\n",
    "***Id : PY09059***\n",
    "***Email : umermuhammadiqbal@gmail.com*** ###"
   ]
  },
  {
   "cell_type": "markdown",
   "metadata": {},
   "source": [
    "Question:1\n",
    "Write a Python function to calculate the factorial of a number (a non-negative\n",
    "integer). The function accepts the number as an argument."
   ]
  },
  {
   "cell_type": "code",
   "execution_count": 3,
   "metadata": {},
   "outputs": [
    {
     "name": "stdout",
     "output_type": "stream",
     "text": [
      "24\n"
     ]
    }
   ],
   "source": [
    "def factorial(num):\n",
    "    product = 1\n",
    "    while num>0:\n",
    "        product*=num\n",
    "        num -=1\n",
    "    print(product)\n",
    "\n",
    "factorial(4)"
   ]
  },
  {
   "cell_type": "markdown",
   "metadata": {},
   "source": [
    "Question:2\n",
    "Write a Python function that accepts a string and calculate the number of upper\n",
    "case letters and lower case letters."
   ]
  },
  {
   "cell_type": "code",
   "execution_count": 12,
   "metadata": {},
   "outputs": [
    {
     "name": "stdout",
     "output_type": "stream",
     "text": [
      "your have 3 upper Case and 14 small Case\n"
     ]
    }
   ],
   "source": [
    "def calc_str_uper_lower(string):\n",
    "    s=0\n",
    "    c=0\n",
    "    for u in string:\n",
    "        if u==u.upper():\n",
    "            s+=1\n",
    "        elif u==u.lower():\n",
    "            c+=1\n",
    "    print(f\"your have {s} upper Case and {c} small Case\")\n",
    "    \n",
    "\n",
    "calc_str_uper_lower(\"UmerMuhammadIqbal\")"
   ]
  },
  {
   "cell_type": "markdown",
   "metadata": {},
   "source": [
    "Question:3\n",
    "Write a Python function to print the even numbers from a given list."
   ]
  },
  {
   "cell_type": "code",
   "execution_count": 26,
   "metadata": {},
   "outputs": [
    {
     "name": "stdout",
     "output_type": "stream",
     "text": [
      "[2, 4, 6, 8, 10, 20, 30, 18]\n"
     ]
    }
   ],
   "source": [
    "alist= [1,2,3,4,5,6,7,8,9,10,20,30,15,17,18]\n",
    "\n",
    "def even_num(lst):\n",
    "    blist=[]\n",
    "    for e in lst:\n",
    "        if e%2==0:\n",
    "            blist.append(e)\n",
    "    print(blist)\n",
    "        \n",
    "even_num(alist)"
   ]
  },
  {
   "cell_type": "markdown",
   "metadata": {},
   "source": [
    "Question:4\n",
    "Write a Python function that checks whether a passed string is palindrome or not.\n",
    "Note: A palindrome is a word, phrase, or sequence that reads the same\n",
    "backward as forward, e.g., madam"
   ]
  },
  {
   "cell_type": "code",
   "execution_count": 57,
   "metadata": {},
   "outputs": [
    {
     "name": "stdout",
     "output_type": "stream",
     "text": [
      "the word Anna is palindrome\n",
      "the word Madam is palindrome\n",
      "the word Umer is not palindrome\n"
     ]
    }
   ],
   "source": [
    "def palindrome(word):\n",
    "    if word.lower() == word[::-1].lower():\n",
    "        print(f\"the word {word} is palindrome\")\n",
    "    else:\n",
    "        print(f\"the word {word} is not palindrome\")\n",
    "\n",
    "palindrome(\"Anna\")\n",
    "palindrome(\"Madam\")\n",
    "palindrome(\"Umer\")\n",
    "        "
   ]
  },
  {
   "cell_type": "markdown",
   "metadata": {},
   "source": [
    "Question:5\n",
    "Write a Python function that takes a number as a parameter and check the\n",
    "number is prime or not."
   ]
  },
  {
   "cell_type": "code",
   "execution_count": 69,
   "metadata": {},
   "outputs": [
    {
     "name": "stdout",
     "output_type": "stream",
     "text": [
      "9 is not a prime number\n",
      "13 is a prime number\n"
     ]
    }
   ],
   "source": [
    "def check_prime(num):\n",
    "    for i in range(2,num):\n",
    "        check=True\n",
    "        if num%i==0:\n",
    "            check=False\n",
    "            break\n",
    "    if check==True:\n",
    "            print(f'{num} is a prime number')\n",
    "    else:\n",
    "        print(f\"{num} is not a prime number\")\n",
    "                  \n",
    "check_prime(9)\n",
    "check_prime(13)"
   ]
  },
  {
   "cell_type": "code",
   "execution_count": null,
   "metadata": {},
   "outputs": [],
   "source": [
    "Question: 6\n",
    "Suppose a customer is shopping in a market and you need to print all the items\n",
    "which user bought from market.\n",
    "Write a function which accepts the multiple arguments of user shopping list and\n",
    "print all the items which user bought from market."
   ]
  },
  {
   "cell_type": "code",
   "execution_count": 76,
   "metadata": {},
   "outputs": [
    {
     "name": "stdout",
     "output_type": "stream",
     "text": [
      "items: \n",
      "\n",
      "Choclate\n",
      "clothes\n",
      "jacket\n"
     ]
    }
   ],
   "source": [
    "def item_list(*items):\n",
    "    print(\"items: \\n\")\n",
    "    for i in items:\n",
    "        print(f\"{i}\")\n",
    "        \n",
    "item_list(\"Choclate\",\"clothes\",\"jacket\")"
   ]
  }
 ],
 "metadata": {
  "kernelspec": {
   "display_name": "Python 3",
   "language": "python",
   "name": "python3"
  },
  "language_info": {
   "codemirror_mode": {
    "name": "ipython",
    "version": 3
   },
   "file_extension": ".py",
   "mimetype": "text/x-python",
   "name": "python",
   "nbconvert_exporter": "python",
   "pygments_lexer": "ipython3",
   "version": "3.7.3"
  }
 },
 "nbformat": 4,
 "nbformat_minor": 2
}
